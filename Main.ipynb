{
 "cells": [
  {
   "cell_type": "code",
   "execution_count": 113,
   "id": "initial_id",
   "metadata": {
    "collapsed": true,
    "ExecuteTime": {
     "end_time": "2024-01-16T20:29:37.064004Z",
     "start_time": "2024-01-16T20:29:36.907174700Z"
    }
   },
   "outputs": [],
   "source": [
    "import pandas as pd\n",
    "from sklearn.preprocessing import StandardScaler"
   ]
  },
  {
   "cell_type": "markdown",
   "source": [
    "# Extraction et normalisation des données\n",
    "\n",
    "on charge les données et on les met en forme"
   ],
   "metadata": {
    "collapsed": false
   },
   "id": "d17a224b4a1692ac"
  },
  {
   "cell_type": "code",
   "execution_count": 114,
   "outputs": [],
   "source": [
    "\n",
    "def variable_target(df):\n",
    "    return df[\"trip_duration\"]\n",
    "\n",
    "\n",
    "def variable_predictive(df):\n",
    "    variables = [\"day\", \"hour\", \"PULocationID\", \"DOLocationID\"]\n",
    "    return df[variables]\n",
    "\n",
    "\n",
    "def normalise(df):\n",
    "    scale = StandardScaler()\n",
    "    vp = variable_predictive(df)\n",
    "    columns_to_scale = [\"day\", \"hour\", \"PULocationID\", \"DOLocationID\"]\n",
    "\n",
    "    for column in columns_to_scale:\n",
    "        vp[column] = pd.to_numeric(vp[column], errors='coerce')\n",
    "\n",
    "    df_scaled = pd.DataFrame(scale.fit_transform(vp[columns_to_scale]), columns=columns_to_scale)\n",
    "    return df_scaled\n"
   ],
   "metadata": {
    "collapsed": false,
    "ExecuteTime": {
     "end_time": "2024-01-16T20:29:37.193011900Z",
     "start_time": "2024-01-16T20:29:36.915858100Z"
    }
   },
   "id": "6936f6940b693595"
  },
  {
   "cell_type": "code",
   "execution_count": 115,
   "outputs": [
    {
     "name": "stdout",
     "output_type": "stream",
     "text": [
      "      day  hour  PULocationID  DOLocationID  trip_duration\n",
      "0  Friday     0           259            32          458.0\n",
      "1  Friday     5           259            32          622.0\n",
      "2  Friday     6           259            32         1028.0\n",
      "3  Friday     7           259            32         1247.0\n",
      "4  Friday     8           259            32         1079.0\n"
     ]
    }
   ],
   "source": [
    "path = \"Sources/result.csv\"\n",
    "\n",
    "df = pd.read_csv(path)\n",
    "\n",
    "print(df.head())"
   ],
   "metadata": {
    "collapsed": false,
    "ExecuteTime": {
     "end_time": "2024-01-16T20:29:37.193011900Z",
     "start_time": "2024-01-16T20:29:36.931809Z"
    }
   },
   "id": "651a4bea4f13d2b9"
  },
  {
   "cell_type": "markdown",
   "source": [
    "On peut ici voir la forme de nos données avec 5 colonnes"
   ],
   "metadata": {
    "collapsed": false
   },
   "id": "dc86d6f8e1ab7852"
  },
  {
   "cell_type": "markdown",
   "source": [
    "On sépare ensuite nos données en 2 parties : une d'apprentissage et une de test"
   ],
   "metadata": {
    "collapsed": false
   },
   "id": "954030c8c4f82f01"
  },
  {
   "cell_type": "code",
   "execution_count": 116,
   "outputs": [],
   "source": [
    "from sklearn.model_selection import train_test_split\n",
    "\n",
    "def split_x_y(df):\n",
    "    X = df.drop(['trip_duration'], axis=1)\n",
    "\n",
    "    y = df['trip_duration']\n",
    "    return train_test_split(X, y, test_size=0.33, random_state=42)"
   ],
   "metadata": {
    "collapsed": false,
    "ExecuteTime": {
     "end_time": "2024-01-16T20:29:37.193011900Z",
     "start_time": "2024-01-16T20:29:36.977090400Z"
    }
   },
   "id": "b7977763a414067b"
  },
  {
   "cell_type": "code",
   "execution_count": 117,
   "outputs": [
    {
     "name": "stdout",
     "output_type": "stream",
     "text": [
      "(5743, 4) (2829, 4)\n",
      "day             object\n",
      "hour             int64\n",
      "PULocationID     int64\n",
      "DOLocationID     int64\n",
      "dtype: object\n"
     ]
    }
   ],
   "source": [
    "X_train, X_test, y_train, y_test = split_x_y(df)\n",
    "\n",
    "print(X_train.shape, X_test.shape)\n",
    "print(X_train.dtypes)"
   ],
   "metadata": {
    "collapsed": false,
    "ExecuteTime": {
     "end_time": "2024-01-16T20:29:37.201526600Z",
     "start_time": "2024-01-16T20:29:36.988694600Z"
    }
   },
   "id": "5334c8603383ebe3"
  },
  {
   "cell_type": "markdown",
   "source": [
    "On peut voir les dimensions de nos 2 datasets"
   ],
   "metadata": {
    "collapsed": false
   },
   "id": "5a83d68cf8eef993"
  },
  {
   "cell_type": "code",
   "execution_count": 118,
   "outputs": [],
   "source": [
    "import category_encoders as ce\n",
    "\n",
    "def encoding(X_train, X_test):\n",
    "    encoder = ce.OrdinalEncoder(cols=['day', 'hour', 'PULocationID', 'DOLocationID'])\n",
    "    X_train = encoder.fit_transform(X_train)\n",
    "    X_test = encoder.transform(X_test)\n",
    "    return X_train, X_test"
   ],
   "metadata": {
    "collapsed": false,
    "ExecuteTime": {
     "end_time": "2024-01-16T20:29:37.201526600Z",
     "start_time": "2024-01-16T20:29:37.013917Z"
    }
   },
   "id": "699e0c499f3f5e76"
  },
  {
   "cell_type": "code",
   "execution_count": 119,
   "outputs": [
    {
     "name": "stdout",
     "output_type": "stream",
     "text": [
      "      day  hour  PULocationID  DOLocationID\n",
      "808     1     1             1             1\n",
      "6113    2     2             1             1\n",
      "958     3     3             1             1\n",
      "3555    4     4             1             1\n",
      "4013    5     5             1             1\n"
     ]
    }
   ],
   "source": [
    "X_train, X_test = encoding(X_train, X_test)\n",
    "print(X_train.head())"
   ],
   "metadata": {
    "collapsed": false,
    "ExecuteTime": {
     "end_time": "2024-01-16T20:29:37.261419300Z",
     "start_time": "2024-01-16T20:29:37.019839200Z"
    }
   },
   "id": "d54774015212cd14"
  },
  {
   "cell_type": "markdown",
   "source": [
    "On encode ensuite les valeurs pour avoir uniquement des entiers"
   ],
   "metadata": {
    "collapsed": false
   },
   "id": "13b6ace1aff055f9"
  },
  {
   "cell_type": "code",
   "execution_count": 120,
   "outputs": [
    {
     "name": "stdout",
     "output_type": "stream",
     "text": [
      "Model accuracy with tolerance: 0.2471\n"
     ]
    }
   ],
   "source": [
    "from sklearn.ensemble import RandomForestClassifier\n",
    "\n",
    "def predict(X_train, y_train, X_test, y_test, tolerance_seconds):\n",
    "    rfc = RandomForestClassifier(random_state=0)\n",
    "    rfc.fit(X_train, y_train)\n",
    "    y_pred = rfc.predict(X_test)\n",
    "    return custom_error_metric(y_test, y_pred, tolerance_seconds)\n",
    "\n",
    "\n",
    "def custom_error_metric(y_true, y_pred, tolerance_seconds):\n",
    "    errors = abs(y_true - y_pred)\n",
    "    correct_predictions = errors <= tolerance_seconds\n",
    "    accuracy = sum(correct_predictions) / len(correct_predictions)\n",
    "    return accuracy\n",
    "\n",
    "\n",
    "tolerance_seconds = 60\n",
    "\n",
    "accuracy_with_tolerance = predict(X_train, y_train, X_test, y_test, tolerance_seconds)\n",
    "\n",
    "print(f'Model accuracy with tolerance: {accuracy_with_tolerance:.4f}')"
   ],
   "metadata": {
    "collapsed": false,
    "ExecuteTime": {
     "end_time": "2024-01-16T20:29:40.966804100Z",
     "start_time": "2024-01-16T20:29:37.084817500Z"
    }
   },
   "id": "68c89afc29c18af1"
  },
  {
   "cell_type": "markdown",
   "source": [
    "On effectue un premier test avec un résultat à plus ou moins 60 secondes"
   ],
   "metadata": {
    "collapsed": false
   },
   "id": "908754e19f047eb2"
  },
  {
   "cell_type": "code",
   "execution_count": 121,
   "outputs": [
    {
     "name": "stdout",
     "output_type": "stream",
     "text": [
      "Model accuracy with tolerance: 0.4662\n"
     ]
    }
   ],
   "source": [
    "def predict_from_path(path, tolerance_seconds):\n",
    "    df = pd.read_csv(path)\n",
    "    X_train, X_test, y_train, y_test = split_x_y(df)\n",
    "    X_train, X_test = encoding(X_train, X_test)\n",
    "    return predict(X_train, y_train, X_test, y_test, tolerance_seconds)\n",
    "\n",
    "\n",
    "tolerance_seconds = 120\n",
    "accuracy_with_tolerance = predict_from_path(path, tolerance_seconds)\n",
    "print(f'Model accuracy with tolerance: {accuracy_with_tolerance:.4f}')"
   ],
   "metadata": {
    "collapsed": false,
    "ExecuteTime": {
     "end_time": "2024-01-16T20:29:44.180439700Z",
     "start_time": "2024-01-16T20:29:40.981357500Z"
    }
   },
   "id": "788b8015718f0c7e"
  },
  {
   "cell_type": "markdown",
   "source": [
    "On effectue un second test avec un résultat à plus ou moins 2 minutes"
   ],
   "metadata": {
    "collapsed": false
   },
   "id": "554a41b5aecdd6c9"
  },
  {
   "cell_type": "code",
   "execution_count": 122,
   "outputs": [
    {
     "name": "stdout",
     "output_type": "stream",
     "text": [
      "Model accuracy with tolerance: 0.7416\n"
     ]
    }
   ],
   "source": [
    "tolerance_seconds = 240\n",
    "accuracy_with_tolerance = predict_from_path(path, tolerance_seconds)\n",
    "print(f'Model accuracy with tolerance: {accuracy_with_tolerance:.4f}')"
   ],
   "metadata": {
    "collapsed": false,
    "ExecuteTime": {
     "end_time": "2024-01-16T20:29:47.169539300Z",
     "start_time": "2024-01-16T20:29:44.166306100Z"
    }
   },
   "id": "71c8901aebe86d4d"
  },
  {
   "cell_type": "markdown",
   "source": [
    "On effectue un troisième test avec un résultat à plus ou moins 4 minutes"
   ],
   "metadata": {
    "collapsed": false
   },
   "id": "43e0752db297bd0c"
  },
  {
   "cell_type": "code",
   "execution_count": 123,
   "outputs": [
    {
     "name": "stdout",
     "output_type": "stream",
     "text": [
      "9.616666666666667 minutes pour arriver à destination\n"
     ]
    }
   ],
   "source": [
    "def predictResult(X_train, y_train, X_test):\n",
    "    rfc = RandomForestClassifier(random_state=0)\n",
    "    rfc.fit(X_train, y_train)\n",
    "    y_pred = rfc.predict(X_test)\n",
    "    return y_pred\n",
    "\n",
    "\n",
    "dico = {'day': [1], 'hour': [3], 'PULocationID': [1], 'DOLocationID': [1]}\n",
    "dfTest = pd.DataFrame(dico)\n",
    "print(f\"{predictResult(X_train, y_train, dfTest)[0]/60} minutes pour arriver à destination\")"
   ],
   "metadata": {
    "collapsed": false,
    "ExecuteTime": {
     "end_time": "2024-01-16T20:29:47.997606Z",
     "start_time": "2024-01-16T20:29:47.182891500Z"
    }
   },
   "id": "ad3499f389df0b2a"
  },
  {
   "cell_type": "markdown",
   "source": [
    "Ici, on peut tester des valeurs et observer le temps prédit par l'algorithme"
   ],
   "metadata": {
    "collapsed": false
   },
   "id": "7708a371c6f3ed52"
  }
 ],
 "metadata": {
  "kernelspec": {
   "display_name": "Python 3",
   "language": "python",
   "name": "python3"
  },
  "language_info": {
   "codemirror_mode": {
    "name": "ipython",
    "version": 2
   },
   "file_extension": ".py",
   "mimetype": "text/x-python",
   "name": "python",
   "nbconvert_exporter": "python",
   "pygments_lexer": "ipython2",
   "version": "2.7.6"
  }
 },
 "nbformat": 4,
 "nbformat_minor": 5
}
